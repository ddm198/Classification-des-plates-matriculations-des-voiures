{
  "nbformat": 4,
  "nbformat_minor": 0,
  "metadata": {
    "colab": {
      "name": "TP3_SIM_P23_Indexation.ipynb",
      "provenance": [],
      "collapsed_sections": [],
      "toc_visible": true
    },
    "kernelspec": {
      "name": "python3",
      "display_name": "Python 3"
    },
    "accelerator": "GPU"
  },
  "cells": [
    {
      "cell_type": "code",
      "metadata": {
        "id": "vxRRbp5nJuxc",
        "colab_type": "code",
        "outputId": "ad3302d1-294d-47b1-9a6f-c25b80a5a305",
        "colab": {
          "base_uri": "https://localhost:8080/",
          "height": 122
        }
      },
      "source": [
        "from google.colab import drive\n",
        "drive.mount('/gdrive')"
      ],
      "execution_count": 6,
      "outputs": [
        {
          "output_type": "stream",
          "text": [
            "Go to this URL in a browser: https://accounts.google.com/o/oauth2/auth?client_id=947318989803-6bn6qk8qdgf4n4g3pfee6491hc0brc4i.apps.googleusercontent.com&redirect_uri=urn%3aietf%3awg%3aoauth%3a2.0%3aoob&response_type=code&scope=email%20https%3a%2f%2fwww.googleapis.com%2fauth%2fdocs.test%20https%3a%2f%2fwww.googleapis.com%2fauth%2fdrive%20https%3a%2f%2fwww.googleapis.com%2fauth%2fdrive.photos.readonly%20https%3a%2f%2fwww.googleapis.com%2fauth%2fpeopleapi.readonly\n",
            "\n",
            "Enter your authorization code:\n",
            "··········\n",
            "Mounted at /gdrive\n"
          ],
          "name": "stdout"
        }
      ]
    },
    {
      "cell_type": "markdown",
      "metadata": {
        "id": "4rxeui8Ruomq",
        "colab_type": "text"
      },
      "source": [
        "#Espace d'importation des librairies necessaires pour le projet"
      ]
    },
    {
      "cell_type": "code",
      "metadata": {
        "id": "xBC9Oh0UXRxJ",
        "colab_type": "code",
        "colab": {}
      },
      "source": [
        "%matplotlib inline\n",
        "import os\n",
        "import pandas as pd\n",
        "import pickle\n",
        "import zipfile\n",
        "import matplotlib.pyplot as plt\n",
        "import numpy as np\n",
        "import seaborn as sns\n",
        "from sklearn.metrics import confusion_matrix\n",
        "from sklearn.metrics import classification_report\n"
      ],
      "execution_count": 0,
      "outputs": []
    },
    {
      "cell_type": "markdown",
      "metadata": {
        "id": "J4DXjhsO84Xe",
        "colab_type": "text"
      },
      "source": [
        "#Importation du datatset"
      ]
    },
    {
      "cell_type": "code",
      "metadata": {
        "id": "sf6-BJqM7vEC",
        "colab_type": "code",
        "colab": {}
      },
      "source": [
        "cp '/gdrive/My Drive/Database.zip' /"
      ],
      "execution_count": 0,
      "outputs": []
    },
    {
      "cell_type": "code",
      "metadata": {
        "id": "ydxKRfG4SKjn",
        "colab_type": "code",
        "colab": {}
      },
      "source": [
        "dataset = '/Database.zip'"
      ],
      "execution_count": 0,
      "outputs": []
    },
    {
      "cell_type": "code",
      "metadata": {
        "id": "RxSkR5YYSVWe",
        "colab_type": "code",
        "colab": {}
      },
      "source": [
        "# Desipage le dataset\n",
        "import zipfile\n",
        "with zipfile.ZipFile(dataset,'r') as zip_ref:\n",
        "  zip_ref.extractall('/')"
      ],
      "execution_count": 0,
      "outputs": []
    },
    {
      "cell_type": "markdown",
      "metadata": {
        "id": "zAX23lgr9MXB",
        "colab_type": "text"
      },
      "source": [
        "#Verification du contenu du dataset"
      ]
    },
    {
      "cell_type": "code",
      "metadata": {
        "id": "_2KCtSlCV54_",
        "colab_type": "code",
        "outputId": "0783f587-908d-4d56-acaf-c7d615733d67",
        "colab": {
          "base_uri": "https://localhost:8080/",
          "height": 765
        }
      },
      "source": [
        "ll /Database/BaseDApprentissage/Training_Images-avecVeriteTerrain\\(GT\\)"
      ],
      "execution_count": 12,
      "outputs": [
        {
          "output_type": "stream",
          "text": [
            "total 1568\n",
            "drwxr-xr-x 2 root 12288 Jan 25 15:29 \u001b[0m\u001b[01;34m00000\u001b[0m/\n",
            "drwxr-xr-x 2 root 77824 Jan 25 15:29 \u001b[01;34m00001\u001b[0m/\n",
            "drwxr-xr-x 2 root 77824 Jan 25 15:29 \u001b[01;34m00002\u001b[0m/\n",
            "drwxr-xr-x 2 root 57344 Jan 25 15:29 \u001b[01;34m00003\u001b[0m/\n",
            "drwxr-xr-x 2 root 69632 Jan 25 15:29 \u001b[01;34m00004\u001b[0m/\n",
            "drwxr-xr-x 2 root 69632 Jan 25 15:29 \u001b[01;34m00005\u001b[0m/\n",
            "drwxr-xr-x 2 root 20480 Jan 25 15:29 \u001b[01;34m00006\u001b[0m/\n",
            "drwxr-xr-x 2 root 61440 Jan 25 15:29 \u001b[01;34m00007\u001b[0m/\n",
            "drwxr-xr-x 2 root 57344 Jan 25 15:29 \u001b[01;34m00008\u001b[0m/\n",
            "drwxr-xr-x 2 root 65536 Jan 25 15:29 \u001b[01;34m00009\u001b[0m/\n",
            "drwxr-xr-x 2 root 69632 Jan 25 15:29 \u001b[01;34m00010\u001b[0m/\n",
            "drwxr-xr-x 2 root 53248 Jan 25 15:29 \u001b[01;34m00011\u001b[0m/\n",
            "drwxr-xr-x 2 root 69632 Jan 25 15:29 \u001b[01;34m00012\u001b[0m/\n",
            "drwxr-xr-x 2 root 69632 Jan 25 15:29 \u001b[01;34m00013\u001b[0m/\n",
            "drwxr-xr-x 2 root 36864 Jan 25 15:29 \u001b[01;34m00014\u001b[0m/\n",
            "drwxr-xr-x 2 root 20480 Jan 25 15:29 \u001b[01;34m00015\u001b[0m/\n",
            "drwxr-xr-x 2 root 20480 Jan 25 15:29 \u001b[01;34m00016\u001b[0m/\n",
            "drwxr-xr-x 2 root 36864 Jan 25 15:29 \u001b[01;34m00017\u001b[0m/\n",
            "drwxr-xr-x 2 root 40960 Jan 25 15:29 \u001b[01;34m00018\u001b[0m/\n",
            "drwxr-xr-x 2 root 12288 Jan 25 15:29 \u001b[01;34m00019\u001b[0m/\n",
            "drwxr-xr-x 2 root 16384 Jan 25 15:29 \u001b[01;34m00020\u001b[0m/\n",
            "drwxr-xr-x 2 root 16384 Jan 25 15:29 \u001b[01;34m00021\u001b[0m/\n",
            "drwxr-xr-x 2 root 20480 Jan 25 15:29 \u001b[01;34m00022\u001b[0m/\n",
            "drwxr-xr-x 2 root 20480 Jan 25 15:29 \u001b[01;34m00023\u001b[0m/\n",
            "drwxr-xr-x 2 root 12288 Jan 25 15:29 \u001b[01;34m00024\u001b[0m/\n",
            "drwxr-xr-x 2 root 69632 Jan 25 15:29 \u001b[01;34m00025\u001b[0m/\n",
            "drwxr-xr-x 2 root 20480 Jan 25 15:29 \u001b[01;34m00026\u001b[0m/\n",
            "drwxr-xr-x 2 root 12288 Jan 25 15:29 \u001b[01;34m00027\u001b[0m/\n",
            "drwxr-xr-x 2 root 20480 Jan 25 15:29 \u001b[01;34m00028\u001b[0m/\n",
            "drwxr-xr-x 2 root 12288 Jan 25 15:29 \u001b[01;34m00029\u001b[0m/\n",
            "drwxr-xr-x 2 root 20480 Jan 25 15:29 \u001b[01;34m00030\u001b[0m/\n",
            "drwxr-xr-x 2 root 32768 Jan 25 15:29 \u001b[01;34m00031\u001b[0m/\n",
            "drwxr-xr-x 2 root 12288 Jan 25 15:29 \u001b[01;34m00032\u001b[0m/\n",
            "drwxr-xr-x 2 root 32768 Jan 25 15:29 \u001b[01;34m00033\u001b[0m/\n",
            "drwxr-xr-x 2 root 20480 Jan 25 15:29 \u001b[01;34m00034\u001b[0m/\n",
            "drwxr-xr-x 2 root 40960 Jan 25 15:29 \u001b[01;34m00035\u001b[0m/\n",
            "drwxr-xr-x 2 root 20480 Jan 25 15:29 \u001b[01;34m00036\u001b[0m/\n",
            "drwxr-xr-x 2 root 12288 Jan 25 15:29 \u001b[01;34m00037\u001b[0m/\n",
            "drwxr-xr-x 2 root 69632 Jan 25 15:29 \u001b[01;34m00038\u001b[0m/\n",
            "drwxr-xr-x 2 root 12288 Jan 25 15:29 \u001b[01;34m00039\u001b[0m/\n",
            "drwxr-xr-x 2 root 16384 Jan 25 15:29 \u001b[01;34m00040\u001b[0m/\n",
            "drwxr-xr-x 2 root 12288 Jan 25 15:29 \u001b[01;34m00041\u001b[0m/\n",
            "drwxr-xr-x 2 root 12288 Jan 25 15:29 \u001b[01;34m00042\u001b[0m/\n"
          ],
          "name": "stdout"
        }
      ]
    },
    {
      "cell_type": "markdown",
      "metadata": {
        "id": "wTo9h4cygoci",
        "colab_type": "text"
      },
      "source": [
        "# chargement et conversion du repertoire /Database/BaseDApprentissage/Training_HOG/HOG/HOG_02 sous un fichier csv\n"
      ]
    },
    {
      "cell_type": "code",
      "metadata": {
        "id": "dAbC38segyA9",
        "colab_type": "code",
        "colab": {}
      },
      "source": [
        "# Utilisons la methode walk() pour générer les noms de fichiers dans une arborescence de répertoires en parcourant l'arborescence\n",
        "train_hog_path = '/Database/BaseDApprentissage/Training_HOG/HOG/HOG_02'\n",
        "def read_hog2(train_hog_path):\n",
        "  for path, dirs, files in os.walk(train_hog_path):\n",
        "    tab_hog = []\n",
        "    for file in files:\n",
        "      features = []\n",
        "      hog_file = os.path.join(path, file)\n",
        "      with open(hog_file, \"r\") as fic:\n",
        "        features = fic.read().strip().split('\\n')\n",
        "      image_feateares = ''\n",
        "      for feat in features:\n",
        "        image_feateares = image_feateares + feat + ';'\n",
        "      image_feateares = image_feateares+'\\n'\n",
        "      with open(\"data_train.csv\", \"a\") as fichier:\n",
        "        fichier.write(image_feateares)"
      ],
      "execution_count": 0,
      "outputs": []
    },
    {
      "cell_type": "markdown",
      "metadata": {
        "id": "HC0YzYmefkoh",
        "colab_type": "text"
      },
      "source": [
        "#Chargement et conversion du repertoire /Database/BaseDeTest/Test_HOG/HOG_02 en csv\n"
      ]
    },
    {
      "cell_type": "code",
      "metadata": {
        "id": "LWj9e_Z8R6il",
        "colab_type": "code",
        "colab": {}
      },
      "source": [
        "test_hog_path = '/Database/BaseDeTest/Test_HOG/HOG_02' \n",
        "def read_hog2(test_hog_path):\n",
        "  for path, dirs, files in os.walk(test_hog_path):\n",
        "    tab_hog = []\n",
        "    for file in files:\n",
        "      features = []\n",
        "      hog_file = os.path.join(path, file)\n",
        "      with open(hog_file, \"r\") as fic:\n",
        "        features = fic.read().strip().split('\\n')\n",
        "      #print(features)\n",
        "      image_feateares = ''\n",
        "      for feat in features:\n",
        "        image_feateares = image_feateares + feat + ';'\n",
        "      image_feateares = image_feateares+'\\n'\n",
        "      with open(\"data_test.csv\", \"a\") as fichier:\n",
        "        fichier.write(image_feateares)"
      ],
      "execution_count": 0,
      "outputs": []
    },
    {
      "cell_type": "code",
      "metadata": {
        "id": "SiFvtsNVrnGf",
        "colab_type": "code",
        "outputId": "7ba303a9-a50e-4f0c-e81e-f36fe8d9665c",
        "colab": {
          "base_uri": "https://localhost:8080/",
          "height": 253
        }
      },
      "source": [
        "df = pd.read_csv('/gdrive/My Drive/data_train.csv', header=None, sep=';')\n",
        "df.head()"
      ],
      "execution_count": 15,
      "outputs": [
        {
          "output_type": "execute_result",
          "data": {
            "text/html": [
              "<div>\n",
              "<style scoped>\n",
              "    .dataframe tbody tr th:only-of-type {\n",
              "        vertical-align: middle;\n",
              "    }\n",
              "\n",
              "    .dataframe tbody tr th {\n",
              "        vertical-align: top;\n",
              "    }\n",
              "\n",
              "    .dataframe thead th {\n",
              "        text-align: right;\n",
              "    }\n",
              "</style>\n",
              "<table border=\"1\" class=\"dataframe\">\n",
              "  <thead>\n",
              "    <tr style=\"text-align: right;\">\n",
              "      <th></th>\n",
              "      <th>0</th>\n",
              "      <th>1</th>\n",
              "      <th>2</th>\n",
              "      <th>3</th>\n",
              "      <th>4</th>\n",
              "      <th>5</th>\n",
              "      <th>6</th>\n",
              "      <th>7</th>\n",
              "      <th>8</th>\n",
              "      <th>9</th>\n",
              "      <th>10</th>\n",
              "      <th>11</th>\n",
              "      <th>12</th>\n",
              "      <th>13</th>\n",
              "      <th>14</th>\n",
              "      <th>15</th>\n",
              "      <th>16</th>\n",
              "      <th>17</th>\n",
              "      <th>18</th>\n",
              "      <th>19</th>\n",
              "      <th>20</th>\n",
              "      <th>21</th>\n",
              "      <th>22</th>\n",
              "      <th>23</th>\n",
              "      <th>24</th>\n",
              "      <th>25</th>\n",
              "      <th>26</th>\n",
              "      <th>27</th>\n",
              "      <th>28</th>\n",
              "      <th>29</th>\n",
              "      <th>30</th>\n",
              "      <th>31</th>\n",
              "      <th>32</th>\n",
              "      <th>33</th>\n",
              "      <th>34</th>\n",
              "      <th>35</th>\n",
              "      <th>36</th>\n",
              "      <th>37</th>\n",
              "      <th>38</th>\n",
              "      <th>39</th>\n",
              "      <th>...</th>\n",
              "      <th>1529</th>\n",
              "      <th>1530</th>\n",
              "      <th>1531</th>\n",
              "      <th>1532</th>\n",
              "      <th>1533</th>\n",
              "      <th>1534</th>\n",
              "      <th>1535</th>\n",
              "      <th>1536</th>\n",
              "      <th>1537</th>\n",
              "      <th>1538</th>\n",
              "      <th>1539</th>\n",
              "      <th>1540</th>\n",
              "      <th>1541</th>\n",
              "      <th>1542</th>\n",
              "      <th>1543</th>\n",
              "      <th>1544</th>\n",
              "      <th>1545</th>\n",
              "      <th>1546</th>\n",
              "      <th>1547</th>\n",
              "      <th>1548</th>\n",
              "      <th>1549</th>\n",
              "      <th>1550</th>\n",
              "      <th>1551</th>\n",
              "      <th>1552</th>\n",
              "      <th>1553</th>\n",
              "      <th>1554</th>\n",
              "      <th>1555</th>\n",
              "      <th>1556</th>\n",
              "      <th>1557</th>\n",
              "      <th>1558</th>\n",
              "      <th>1559</th>\n",
              "      <th>1560</th>\n",
              "      <th>1561</th>\n",
              "      <th>1562</th>\n",
              "      <th>1563</th>\n",
              "      <th>1564</th>\n",
              "      <th>1565</th>\n",
              "      <th>1566</th>\n",
              "      <th>1567</th>\n",
              "      <th>1568</th>\n",
              "    </tr>\n",
              "  </thead>\n",
              "  <tbody>\n",
              "    <tr>\n",
              "      <th>0</th>\n",
              "      <td>0.084114</td>\n",
              "      <td>0.012509</td>\n",
              "      <td>0.001139</td>\n",
              "      <td>0.041691</td>\n",
              "      <td>0.443293</td>\n",
              "      <td>0.033574</td>\n",
              "      <td>0.000213</td>\n",
              "      <td>0.010892</td>\n",
              "      <td>0.125005</td>\n",
              "      <td>0.072376</td>\n",
              "      <td>0.006039</td>\n",
              "      <td>0.044455</td>\n",
              "      <td>0.435786</td>\n",
              "      <td>0.064728</td>\n",
              "      <td>0.045807</td>\n",
              "      <td>0.058674</td>\n",
              "      <td>0.192964</td>\n",
              "      <td>0.040823</td>\n",
              "      <td>0.038744</td>\n",
              "      <td>0.142044</td>\n",
              "      <td>0.480704</td>\n",
              "      <td>0.036586</td>\n",
              "      <td>0.000000</td>\n",
              "      <td>0.022930</td>\n",
              "      <td>0.158162</td>\n",
              "      <td>0.085586</td>\n",
              "      <td>0.153284</td>\n",
              "      <td>0.293540</td>\n",
              "      <td>0.280026</td>\n",
              "      <td>0.076133</td>\n",
              "      <td>0.047578</td>\n",
              "      <td>0.035619</td>\n",
              "      <td>0.077658</td>\n",
              "      <td>0.054524</td>\n",
              "      <td>0.005042</td>\n",
              "      <td>0.018028</td>\n",
              "      <td>0.183104</td>\n",
              "      <td>0.106162</td>\n",
              "      <td>0.300339</td>\n",
              "      <td>0.111019</td>\n",
              "      <td>...</td>\n",
              "      <td>0.273770</td>\n",
              "      <td>0.121657</td>\n",
              "      <td>0.041059</td>\n",
              "      <td>0.036930</td>\n",
              "      <td>0.023378</td>\n",
              "      <td>0.026503</td>\n",
              "      <td>0.107648</td>\n",
              "      <td>0.139748</td>\n",
              "      <td>0.116941</td>\n",
              "      <td>0.124062</td>\n",
              "      <td>0.126452</td>\n",
              "      <td>0.031412</td>\n",
              "      <td>0.021391</td>\n",
              "      <td>0.006922</td>\n",
              "      <td>0.123032</td>\n",
              "      <td>0.129536</td>\n",
              "      <td>0.037063</td>\n",
              "      <td>0.046783</td>\n",
              "      <td>0.199411</td>\n",
              "      <td>0.219173</td>\n",
              "      <td>0.077214</td>\n",
              "      <td>0.024341</td>\n",
              "      <td>0.322829</td>\n",
              "      <td>0.072914</td>\n",
              "      <td>0.124794</td>\n",
              "      <td>0.115124</td>\n",
              "      <td>0.044732</td>\n",
              "      <td>0.049051</td>\n",
              "      <td>0.176152</td>\n",
              "      <td>0.042140</td>\n",
              "      <td>0.019567</td>\n",
              "      <td>0.044634</td>\n",
              "      <td>0.040081</td>\n",
              "      <td>0.042722</td>\n",
              "      <td>0.191935</td>\n",
              "      <td>0.371952</td>\n",
              "      <td>0.554959</td>\n",
              "      <td>0.071317</td>\n",
              "      <td>0.004744</td>\n",
              "      <td>0</td>\n",
              "    </tr>\n",
              "    <tr>\n",
              "      <th>1</th>\n",
              "      <td>0.042234</td>\n",
              "      <td>0.010996</td>\n",
              "      <td>0.000139</td>\n",
              "      <td>0.106656</td>\n",
              "      <td>0.431576</td>\n",
              "      <td>0.061183</td>\n",
              "      <td>0.000412</td>\n",
              "      <td>0.003250</td>\n",
              "      <td>0.077768</td>\n",
              "      <td>0.008534</td>\n",
              "      <td>0.000000</td>\n",
              "      <td>0.086742</td>\n",
              "      <td>0.439469</td>\n",
              "      <td>0.183968</td>\n",
              "      <td>0.077223</td>\n",
              "      <td>0.073741</td>\n",
              "      <td>0.176993</td>\n",
              "      <td>0.093957</td>\n",
              "      <td>0.041302</td>\n",
              "      <td>0.126331</td>\n",
              "      <td>0.443958</td>\n",
              "      <td>0.081025</td>\n",
              "      <td>0.000675</td>\n",
              "      <td>0.009133</td>\n",
              "      <td>0.186166</td>\n",
              "      <td>0.049147</td>\n",
              "      <td>0.087735</td>\n",
              "      <td>0.211209</td>\n",
              "      <td>0.238184</td>\n",
              "      <td>0.098414</td>\n",
              "      <td>0.239765</td>\n",
              "      <td>0.145102</td>\n",
              "      <td>0.022401</td>\n",
              "      <td>0.005190</td>\n",
              "      <td>0.000000</td>\n",
              "      <td>0.022031</td>\n",
              "      <td>0.126784</td>\n",
              "      <td>0.321207</td>\n",
              "      <td>0.208654</td>\n",
              "      <td>0.058249</td>\n",
              "      <td>...</td>\n",
              "      <td>0.098019</td>\n",
              "      <td>0.091205</td>\n",
              "      <td>0.108165</td>\n",
              "      <td>0.094924</td>\n",
              "      <td>0.007133</td>\n",
              "      <td>0.011339</td>\n",
              "      <td>0.061859</td>\n",
              "      <td>0.107373</td>\n",
              "      <td>0.025088</td>\n",
              "      <td>0.098446</td>\n",
              "      <td>0.102204</td>\n",
              "      <td>0.018499</td>\n",
              "      <td>0.000565</td>\n",
              "      <td>0.001575</td>\n",
              "      <td>0.365358</td>\n",
              "      <td>0.229380</td>\n",
              "      <td>0.015146</td>\n",
              "      <td>0.051255</td>\n",
              "      <td>0.083766</td>\n",
              "      <td>0.014316</td>\n",
              "      <td>0.000000</td>\n",
              "      <td>0.007598</td>\n",
              "      <td>0.652584</td>\n",
              "      <td>0.152075</td>\n",
              "      <td>0.047889</td>\n",
              "      <td>0.123778</td>\n",
              "      <td>0.085205</td>\n",
              "      <td>0.021854</td>\n",
              "      <td>0.017265</td>\n",
              "      <td>0.011444</td>\n",
              "      <td>0.050590</td>\n",
              "      <td>0.076776</td>\n",
              "      <td>0.023667</td>\n",
              "      <td>0.071095</td>\n",
              "      <td>0.219338</td>\n",
              "      <td>0.295188</td>\n",
              "      <td>0.125168</td>\n",
              "      <td>0.012118</td>\n",
              "      <td>0.143777</td>\n",
              "      <td>0</td>\n",
              "    </tr>\n",
              "    <tr>\n",
              "      <th>2</th>\n",
              "      <td>0.089617</td>\n",
              "      <td>0.080208</td>\n",
              "      <td>0.011471</td>\n",
              "      <td>0.053661</td>\n",
              "      <td>0.466442</td>\n",
              "      <td>0.026843</td>\n",
              "      <td>0.000000</td>\n",
              "      <td>0.016241</td>\n",
              "      <td>0.090332</td>\n",
              "      <td>0.085860</td>\n",
              "      <td>0.020544</td>\n",
              "      <td>0.041616</td>\n",
              "      <td>0.324918</td>\n",
              "      <td>0.101294</td>\n",
              "      <td>0.150956</td>\n",
              "      <td>0.090461</td>\n",
              "      <td>0.125183</td>\n",
              "      <td>0.089280</td>\n",
              "      <td>0.099953</td>\n",
              "      <td>0.203604</td>\n",
              "      <td>0.490225</td>\n",
              "      <td>0.030246</td>\n",
              "      <td>0.000000</td>\n",
              "      <td>0.025518</td>\n",
              "      <td>0.066473</td>\n",
              "      <td>0.128870</td>\n",
              "      <td>0.188204</td>\n",
              "      <td>0.233248</td>\n",
              "      <td>0.112596</td>\n",
              "      <td>0.289057</td>\n",
              "      <td>0.160155</td>\n",
              "      <td>0.036808</td>\n",
              "      <td>0.033466</td>\n",
              "      <td>0.014653</td>\n",
              "      <td>0.005625</td>\n",
              "      <td>0.008893</td>\n",
              "      <td>0.115329</td>\n",
              "      <td>0.241982</td>\n",
              "      <td>0.330389</td>\n",
              "      <td>0.080242</td>\n",
              "      <td>...</td>\n",
              "      <td>0.099684</td>\n",
              "      <td>0.036196</td>\n",
              "      <td>0.315712</td>\n",
              "      <td>0.131383</td>\n",
              "      <td>0.000000</td>\n",
              "      <td>0.000125</td>\n",
              "      <td>0.036367</td>\n",
              "      <td>0.081836</td>\n",
              "      <td>0.015582</td>\n",
              "      <td>0.027465</td>\n",
              "      <td>0.089598</td>\n",
              "      <td>0.036550</td>\n",
              "      <td>0.000000</td>\n",
              "      <td>0.016871</td>\n",
              "      <td>0.406918</td>\n",
              "      <td>0.222173</td>\n",
              "      <td>0.027702</td>\n",
              "      <td>0.040895</td>\n",
              "      <td>0.037954</td>\n",
              "      <td>0.004202</td>\n",
              "      <td>0.000000</td>\n",
              "      <td>0.024044</td>\n",
              "      <td>0.686508</td>\n",
              "      <td>0.204959</td>\n",
              "      <td>0.052816</td>\n",
              "      <td>0.057286</td>\n",
              "      <td>0.140188</td>\n",
              "      <td>0.045719</td>\n",
              "      <td>0.001459</td>\n",
              "      <td>0.004172</td>\n",
              "      <td>0.060764</td>\n",
              "      <td>0.161974</td>\n",
              "      <td>0.055433</td>\n",
              "      <td>0.087877</td>\n",
              "      <td>0.135764</td>\n",
              "      <td>0.116282</td>\n",
              "      <td>0.047458</td>\n",
              "      <td>0.018792</td>\n",
              "      <td>0.205772</td>\n",
              "      <td>0</td>\n",
              "    </tr>\n",
              "    <tr>\n",
              "      <th>3</th>\n",
              "      <td>0.124598</td>\n",
              "      <td>0.086021</td>\n",
              "      <td>0.008510</td>\n",
              "      <td>0.063973</td>\n",
              "      <td>0.390833</td>\n",
              "      <td>0.040249</td>\n",
              "      <td>0.014065</td>\n",
              "      <td>0.025400</td>\n",
              "      <td>0.088090</td>\n",
              "      <td>0.055588</td>\n",
              "      <td>0.012765</td>\n",
              "      <td>0.073985</td>\n",
              "      <td>0.197069</td>\n",
              "      <td>0.175948</td>\n",
              "      <td>0.267033</td>\n",
              "      <td>0.055208</td>\n",
              "      <td>0.115622</td>\n",
              "      <td>0.098738</td>\n",
              "      <td>0.167282</td>\n",
              "      <td>0.245788</td>\n",
              "      <td>0.429261</td>\n",
              "      <td>0.018997</td>\n",
              "      <td>0.016764</td>\n",
              "      <td>0.019955</td>\n",
              "      <td>0.045030</td>\n",
              "      <td>0.104228</td>\n",
              "      <td>0.227389</td>\n",
              "      <td>0.144581</td>\n",
              "      <td>0.048101</td>\n",
              "      <td>0.356929</td>\n",
              "      <td>0.311427</td>\n",
              "      <td>0.020584</td>\n",
              "      <td>0.016311</td>\n",
              "      <td>0.003543</td>\n",
              "      <td>0.002399</td>\n",
              "      <td>0.020217</td>\n",
              "      <td>0.079115</td>\n",
              "      <td>0.342116</td>\n",
              "      <td>0.357136</td>\n",
              "      <td>0.023378</td>\n",
              "      <td>...</td>\n",
              "      <td>0.086825</td>\n",
              "      <td>0.114661</td>\n",
              "      <td>0.291040</td>\n",
              "      <td>0.117610</td>\n",
              "      <td>0.000282</td>\n",
              "      <td>0.007663</td>\n",
              "      <td>0.101296</td>\n",
              "      <td>0.059343</td>\n",
              "      <td>0.014748</td>\n",
              "      <td>0.017197</td>\n",
              "      <td>0.060911</td>\n",
              "      <td>0.007945</td>\n",
              "      <td>0.000368</td>\n",
              "      <td>0.025109</td>\n",
              "      <td>0.466666</td>\n",
              "      <td>0.140878</td>\n",
              "      <td>0.009753</td>\n",
              "      <td>0.013572</td>\n",
              "      <td>0.019532</td>\n",
              "      <td>0.000000</td>\n",
              "      <td>0.013675</td>\n",
              "      <td>0.059308</td>\n",
              "      <td>0.676282</td>\n",
              "      <td>0.041870</td>\n",
              "      <td>0.089205</td>\n",
              "      <td>0.064391</td>\n",
              "      <td>0.135832</td>\n",
              "      <td>0.016529</td>\n",
              "      <td>0.001064</td>\n",
              "      <td>0.005590</td>\n",
              "      <td>0.133640</td>\n",
              "      <td>0.058513</td>\n",
              "      <td>0.068571</td>\n",
              "      <td>0.088442</td>\n",
              "      <td>0.114209</td>\n",
              "      <td>0.075747</td>\n",
              "      <td>0.019348</td>\n",
              "      <td>0.007773</td>\n",
              "      <td>0.336546</td>\n",
              "      <td>0</td>\n",
              "    </tr>\n",
              "    <tr>\n",
              "      <th>4</th>\n",
              "      <td>0.109809</td>\n",
              "      <td>0.049416</td>\n",
              "      <td>0.000206</td>\n",
              "      <td>0.034962</td>\n",
              "      <td>0.428900</td>\n",
              "      <td>0.045921</td>\n",
              "      <td>0.001986</td>\n",
              "      <td>0.013491</td>\n",
              "      <td>0.193928</td>\n",
              "      <td>0.070295</td>\n",
              "      <td>0.017230</td>\n",
              "      <td>0.088495</td>\n",
              "      <td>0.334584</td>\n",
              "      <td>0.048942</td>\n",
              "      <td>0.020809</td>\n",
              "      <td>0.038173</td>\n",
              "      <td>0.154890</td>\n",
              "      <td>0.041355</td>\n",
              "      <td>0.012564</td>\n",
              "      <td>0.086536</td>\n",
              "      <td>0.462236</td>\n",
              "      <td>0.052928</td>\n",
              "      <td>0.007944</td>\n",
              "      <td>0.018456</td>\n",
              "      <td>0.100333</td>\n",
              "      <td>0.120207</td>\n",
              "      <td>0.266226</td>\n",
              "      <td>0.289594</td>\n",
              "      <td>0.389719</td>\n",
              "      <td>0.055159</td>\n",
              "      <td>0.030201</td>\n",
              "      <td>0.011018</td>\n",
              "      <td>0.161546</td>\n",
              "      <td>0.027468</td>\n",
              "      <td>0.029685</td>\n",
              "      <td>0.087095</td>\n",
              "      <td>0.151991</td>\n",
              "      <td>0.127132</td>\n",
              "      <td>0.166441</td>\n",
              "      <td>0.100937</td>\n",
              "      <td>...</td>\n",
              "      <td>0.018025</td>\n",
              "      <td>0.041075</td>\n",
              "      <td>0.168102</td>\n",
              "      <td>0.051055</td>\n",
              "      <td>0.002203</td>\n",
              "      <td>0.031068</td>\n",
              "      <td>0.124340</td>\n",
              "      <td>0.236702</td>\n",
              "      <td>0.018377</td>\n",
              "      <td>0.004290</td>\n",
              "      <td>0.007833</td>\n",
              "      <td>0.005589</td>\n",
              "      <td>0.003926</td>\n",
              "      <td>0.048045</td>\n",
              "      <td>0.515131</td>\n",
              "      <td>0.219238</td>\n",
              "      <td>0.123248</td>\n",
              "      <td>0.017909</td>\n",
              "      <td>0.023501</td>\n",
              "      <td>0.009108</td>\n",
              "      <td>0.002287</td>\n",
              "      <td>0.053326</td>\n",
              "      <td>0.427298</td>\n",
              "      <td>0.030839</td>\n",
              "      <td>0.006291</td>\n",
              "      <td>0.010453</td>\n",
              "      <td>0.115986</td>\n",
              "      <td>0.069219</td>\n",
              "      <td>0.000064</td>\n",
              "      <td>0.047431</td>\n",
              "      <td>0.237433</td>\n",
              "      <td>0.049901</td>\n",
              "      <td>0.012061</td>\n",
              "      <td>0.019783</td>\n",
              "      <td>0.103546</td>\n",
              "      <td>0.041708</td>\n",
              "      <td>0.000727</td>\n",
              "      <td>0.108621</td>\n",
              "      <td>0.482985</td>\n",
              "      <td>0</td>\n",
              "    </tr>\n",
              "  </tbody>\n",
              "</table>\n",
              "<p>5 rows × 1569 columns</p>\n",
              "</div>"
            ],
            "text/plain": [
              "       0         1         2         3     ...      1565      1566      1567  1568\n",
              "0  0.084114  0.012509  0.001139  0.041691  ...  0.554959  0.071317  0.004744     0\n",
              "1  0.042234  0.010996  0.000139  0.106656  ...  0.125168  0.012118  0.143777     0\n",
              "2  0.089617  0.080208  0.011471  0.053661  ...  0.047458  0.018792  0.205772     0\n",
              "3  0.124598  0.086021  0.008510  0.063973  ...  0.019348  0.007773  0.336546     0\n",
              "4  0.109809  0.049416  0.000206  0.034962  ...  0.000727  0.108621  0.482985     0\n",
              "\n",
              "[5 rows x 1569 columns]"
            ]
          },
          "metadata": {
            "tags": []
          },
          "execution_count": 15
        }
      ]
    },
    {
      "cell_type": "code",
      "metadata": {
        "id": "Zr02BsNAqvU3",
        "colab_type": "code",
        "colab": {}
      },
      "source": [
        "trainData = df.iloc[:,:-1].values\n",
        "trainLabels = df.iloc[:,-1].values"
      ],
      "execution_count": 0,
      "outputs": []
    },
    {
      "cell_type": "code",
      "metadata": {
        "id": "tWQpjedcsVy_",
        "colab_type": "code",
        "outputId": "3ba32174-25fd-4500-ce96-02f29c2e87d2",
        "colab": {
          "base_uri": "https://localhost:8080/",
          "height": 34
        }
      },
      "source": [
        "trainLabels"
      ],
      "execution_count": 17,
      "outputs": [
        {
          "output_type": "execute_result",
          "data": {
            "text/plain": [
              "array([ 0,  0,  0, ..., 42, 42, 42])"
            ]
          },
          "metadata": {
            "tags": []
          },
          "execution_count": 17
        }
      ]
    },
    {
      "cell_type": "code",
      "metadata": {
        "id": "_bORKD-wrNKu",
        "colab_type": "code",
        "outputId": "9230c9c8-cc5d-4648-f81a-c2ddbd7d0353",
        "colab": {
          "base_uri": "https://localhost:8080/",
          "height": 253
        }
      },
      "source": [
        "data_test = pd.read_csv('/gdrive/My Drive/data_test.csv', header=None, sep=';')\n",
        "data_test.head()"
      ],
      "execution_count": 18,
      "outputs": [
        {
          "output_type": "execute_result",
          "data": {
            "text/html": [
              "<div>\n",
              "<style scoped>\n",
              "    .dataframe tbody tr th:only-of-type {\n",
              "        vertical-align: middle;\n",
              "    }\n",
              "\n",
              "    .dataframe tbody tr th {\n",
              "        vertical-align: top;\n",
              "    }\n",
              "\n",
              "    .dataframe thead th {\n",
              "        text-align: right;\n",
              "    }\n",
              "</style>\n",
              "<table border=\"1\" class=\"dataframe\">\n",
              "  <thead>\n",
              "    <tr style=\"text-align: right;\">\n",
              "      <th></th>\n",
              "      <th>0</th>\n",
              "      <th>1</th>\n",
              "      <th>2</th>\n",
              "      <th>3</th>\n",
              "      <th>4</th>\n",
              "      <th>5</th>\n",
              "      <th>6</th>\n",
              "      <th>7</th>\n",
              "      <th>8</th>\n",
              "      <th>9</th>\n",
              "      <th>10</th>\n",
              "      <th>11</th>\n",
              "      <th>12</th>\n",
              "      <th>13</th>\n",
              "      <th>14</th>\n",
              "      <th>15</th>\n",
              "      <th>16</th>\n",
              "      <th>17</th>\n",
              "      <th>18</th>\n",
              "      <th>19</th>\n",
              "      <th>20</th>\n",
              "      <th>21</th>\n",
              "      <th>22</th>\n",
              "      <th>23</th>\n",
              "      <th>24</th>\n",
              "      <th>25</th>\n",
              "      <th>26</th>\n",
              "      <th>27</th>\n",
              "      <th>28</th>\n",
              "      <th>29</th>\n",
              "      <th>30</th>\n",
              "      <th>31</th>\n",
              "      <th>32</th>\n",
              "      <th>33</th>\n",
              "      <th>34</th>\n",
              "      <th>35</th>\n",
              "      <th>36</th>\n",
              "      <th>37</th>\n",
              "      <th>38</th>\n",
              "      <th>39</th>\n",
              "      <th>...</th>\n",
              "      <th>1529</th>\n",
              "      <th>1530</th>\n",
              "      <th>1531</th>\n",
              "      <th>1532</th>\n",
              "      <th>1533</th>\n",
              "      <th>1534</th>\n",
              "      <th>1535</th>\n",
              "      <th>1536</th>\n",
              "      <th>1537</th>\n",
              "      <th>1538</th>\n",
              "      <th>1539</th>\n",
              "      <th>1540</th>\n",
              "      <th>1541</th>\n",
              "      <th>1542</th>\n",
              "      <th>1543</th>\n",
              "      <th>1544</th>\n",
              "      <th>1545</th>\n",
              "      <th>1546</th>\n",
              "      <th>1547</th>\n",
              "      <th>1548</th>\n",
              "      <th>1549</th>\n",
              "      <th>1550</th>\n",
              "      <th>1551</th>\n",
              "      <th>1552</th>\n",
              "      <th>1553</th>\n",
              "      <th>1554</th>\n",
              "      <th>1555</th>\n",
              "      <th>1556</th>\n",
              "      <th>1557</th>\n",
              "      <th>1558</th>\n",
              "      <th>1559</th>\n",
              "      <th>1560</th>\n",
              "      <th>1561</th>\n",
              "      <th>1562</th>\n",
              "      <th>1563</th>\n",
              "      <th>1564</th>\n",
              "      <th>1565</th>\n",
              "      <th>1566</th>\n",
              "      <th>1567</th>\n",
              "      <th>1568</th>\n",
              "    </tr>\n",
              "  </thead>\n",
              "  <tbody>\n",
              "    <tr>\n",
              "      <th>0</th>\n",
              "      <td>0.077112</td>\n",
              "      <td>0.049983</td>\n",
              "      <td>0.143680</td>\n",
              "      <td>0.151308</td>\n",
              "      <td>0.038555</td>\n",
              "      <td>0.082894</td>\n",
              "      <td>0.166349</td>\n",
              "      <td>0.090185</td>\n",
              "      <td>0.104188</td>\n",
              "      <td>0.100738</td>\n",
              "      <td>0.215535</td>\n",
              "      <td>0.177288</td>\n",
              "      <td>0.055930</td>\n",
              "      <td>0.063975</td>\n",
              "      <td>0.099278</td>\n",
              "      <td>0.140718</td>\n",
              "      <td>0.171471</td>\n",
              "      <td>0.095544</td>\n",
              "      <td>0.120509</td>\n",
              "      <td>0.089032</td>\n",
              "      <td>0.036453</td>\n",
              "      <td>0.142469</td>\n",
              "      <td>0.134749</td>\n",
              "      <td>0.060350</td>\n",
              "      <td>0.377701</td>\n",
              "      <td>0.265219</td>\n",
              "      <td>0.163308</td>\n",
              "      <td>0.141554</td>\n",
              "      <td>0.073729</td>\n",
              "      <td>0.074374</td>\n",
              "      <td>0.126787</td>\n",
              "      <td>0.103715</td>\n",
              "      <td>0.012444</td>\n",
              "      <td>0.019049</td>\n",
              "      <td>0.027556</td>\n",
              "      <td>0.022371</td>\n",
              "      <td>0.007593</td>\n",
              "      <td>0.003344</td>\n",
              "      <td>0.002644</td>\n",
              "      <td>0.012993</td>\n",
              "      <td>...</td>\n",
              "      <td>0.008126</td>\n",
              "      <td>0.006722</td>\n",
              "      <td>0.007335</td>\n",
              "      <td>0.091184</td>\n",
              "      <td>0.063797</td>\n",
              "      <td>0.015779</td>\n",
              "      <td>0.001250</td>\n",
              "      <td>0.039124</td>\n",
              "      <td>0.086540</td>\n",
              "      <td>0.075368</td>\n",
              "      <td>0.019438</td>\n",
              "      <td>0.473649</td>\n",
              "      <td>0.637056</td>\n",
              "      <td>0.015327</td>\n",
              "      <td>0.012919</td>\n",
              "      <td>0.106883</td>\n",
              "      <td>0.143415</td>\n",
              "      <td>0.087703</td>\n",
              "      <td>0.025112</td>\n",
              "      <td>0.024885</td>\n",
              "      <td>0.038218</td>\n",
              "      <td>0.010486</td>\n",
              "      <td>0.024725</td>\n",
              "      <td>0.047442</td>\n",
              "      <td>0.106276</td>\n",
              "      <td>0.083919</td>\n",
              "      <td>0.047099</td>\n",
              "      <td>0.069653</td>\n",
              "      <td>0.105911</td>\n",
              "      <td>0.030990</td>\n",
              "      <td>0.009593</td>\n",
              "      <td>0.095782</td>\n",
              "      <td>0.164022</td>\n",
              "      <td>0.101219</td>\n",
              "      <td>0.056227</td>\n",
              "      <td>0.084591</td>\n",
              "      <td>0.029830</td>\n",
              "      <td>0.006890</td>\n",
              "      <td>0.018699</td>\n",
              "      <td>16</td>\n",
              "    </tr>\n",
              "    <tr>\n",
              "      <th>1</th>\n",
              "      <td>0.119052</td>\n",
              "      <td>0.003266</td>\n",
              "      <td>0.006143</td>\n",
              "      <td>0.247642</td>\n",
              "      <td>0.188298</td>\n",
              "      <td>0.013261</td>\n",
              "      <td>0.002400</td>\n",
              "      <td>0.108383</td>\n",
              "      <td>0.101999</td>\n",
              "      <td>0.017423</td>\n",
              "      <td>0.004926</td>\n",
              "      <td>0.266080</td>\n",
              "      <td>0.295208</td>\n",
              "      <td>0.013048</td>\n",
              "      <td>0.001328</td>\n",
              "      <td>0.153389</td>\n",
              "      <td>0.315290</td>\n",
              "      <td>0.023825</td>\n",
              "      <td>0.031323</td>\n",
              "      <td>0.182069</td>\n",
              "      <td>0.206065</td>\n",
              "      <td>0.010951</td>\n",
              "      <td>0.001659</td>\n",
              "      <td>0.334060</td>\n",
              "      <td>0.274764</td>\n",
              "      <td>0.048709</td>\n",
              "      <td>0.029293</td>\n",
              "      <td>0.129379</td>\n",
              "      <td>0.185493</td>\n",
              "      <td>0.116980</td>\n",
              "      <td>0.092102</td>\n",
              "      <td>0.378674</td>\n",
              "      <td>0.030642</td>\n",
              "      <td>0.017596</td>\n",
              "      <td>0.008270</td>\n",
              "      <td>0.133062</td>\n",
              "      <td>0.142838</td>\n",
              "      <td>0.001929</td>\n",
              "      <td>0.001568</td>\n",
              "      <td>0.045484</td>\n",
              "      <td>...</td>\n",
              "      <td>0.127043</td>\n",
              "      <td>0.037253</td>\n",
              "      <td>0.057937</td>\n",
              "      <td>0.097563</td>\n",
              "      <td>0.026142</td>\n",
              "      <td>0.007395</td>\n",
              "      <td>0.014669</td>\n",
              "      <td>0.395792</td>\n",
              "      <td>0.390840</td>\n",
              "      <td>0.049571</td>\n",
              "      <td>0.127127</td>\n",
              "      <td>0.142368</td>\n",
              "      <td>0.036735</td>\n",
              "      <td>0.011474</td>\n",
              "      <td>0.079633</td>\n",
              "      <td>0.178549</td>\n",
              "      <td>0.028302</td>\n",
              "      <td>0.073083</td>\n",
              "      <td>0.214105</td>\n",
              "      <td>0.096671</td>\n",
              "      <td>0.023134</td>\n",
              "      <td>0.032192</td>\n",
              "      <td>0.427316</td>\n",
              "      <td>0.047514</td>\n",
              "      <td>0.076725</td>\n",
              "      <td>0.060989</td>\n",
              "      <td>0.167363</td>\n",
              "      <td>0.246273</td>\n",
              "      <td>0.067284</td>\n",
              "      <td>0.031518</td>\n",
              "      <td>0.025786</td>\n",
              "      <td>0.002323</td>\n",
              "      <td>0.026539</td>\n",
              "      <td>0.213288</td>\n",
              "      <td>0.317063</td>\n",
              "      <td>0.171908</td>\n",
              "      <td>0.053293</td>\n",
              "      <td>0.022978</td>\n",
              "      <td>0.010473</td>\n",
              "      <td>1</td>\n",
              "    </tr>\n",
              "    <tr>\n",
              "      <th>2</th>\n",
              "      <td>0.000000</td>\n",
              "      <td>0.000000</td>\n",
              "      <td>0.000000</td>\n",
              "      <td>0.000000</td>\n",
              "      <td>0.000000</td>\n",
              "      <td>0.309462</td>\n",
              "      <td>0.351681</td>\n",
              "      <td>0.000060</td>\n",
              "      <td>0.010713</td>\n",
              "      <td>0.148502</td>\n",
              "      <td>0.104254</td>\n",
              "      <td>0.000000</td>\n",
              "      <td>0.000000</td>\n",
              "      <td>0.208257</td>\n",
              "      <td>0.217466</td>\n",
              "      <td>0.001007</td>\n",
              "      <td>0.000000</td>\n",
              "      <td>0.000000</td>\n",
              "      <td>0.000000</td>\n",
              "      <td>0.000000</td>\n",
              "      <td>0.000000</td>\n",
              "      <td>0.393222</td>\n",
              "      <td>0.447801</td>\n",
              "      <td>0.000000</td>\n",
              "      <td>0.006520</td>\n",
              "      <td>0.130205</td>\n",
              "      <td>0.177812</td>\n",
              "      <td>0.010616</td>\n",
              "      <td>0.022378</td>\n",
              "      <td>0.261561</td>\n",
              "      <td>0.278857</td>\n",
              "      <td>0.001151</td>\n",
              "      <td>0.004384</td>\n",
              "      <td>0.069356</td>\n",
              "      <td>0.060222</td>\n",
              "      <td>0.000000</td>\n",
              "      <td>0.000000</td>\n",
              "      <td>0.127693</td>\n",
              "      <td>0.179755</td>\n",
              "      <td>0.001161</td>\n",
              "      <td>...</td>\n",
              "      <td>0.452165</td>\n",
              "      <td>0.447671</td>\n",
              "      <td>0.033033</td>\n",
              "      <td>0.023920</td>\n",
              "      <td>0.003452</td>\n",
              "      <td>0.000924</td>\n",
              "      <td>0.004349</td>\n",
              "      <td>0.018030</td>\n",
              "      <td>0.385495</td>\n",
              "      <td>0.312827</td>\n",
              "      <td>0.000000</td>\n",
              "      <td>0.000529</td>\n",
              "      <td>0.005570</td>\n",
              "      <td>0.008301</td>\n",
              "      <td>0.006485</td>\n",
              "      <td>0.021533</td>\n",
              "      <td>0.157817</td>\n",
              "      <td>0.107365</td>\n",
              "      <td>0.000000</td>\n",
              "      <td>0.013324</td>\n",
              "      <td>0.134879</td>\n",
              "      <td>0.064517</td>\n",
              "      <td>0.048551</td>\n",
              "      <td>0.002916</td>\n",
              "      <td>0.430287</td>\n",
              "      <td>0.472690</td>\n",
              "      <td>0.000000</td>\n",
              "      <td>0.000000</td>\n",
              "      <td>0.024807</td>\n",
              "      <td>0.012307</td>\n",
              "      <td>0.000395</td>\n",
              "      <td>0.000000</td>\n",
              "      <td>0.208758</td>\n",
              "      <td>0.179007</td>\n",
              "      <td>0.000000</td>\n",
              "      <td>0.042548</td>\n",
              "      <td>0.374231</td>\n",
              "      <td>0.062075</td>\n",
              "      <td>0.001808</td>\n",
              "      <td>38</td>\n",
              "    </tr>\n",
              "    <tr>\n",
              "      <th>3</th>\n",
              "      <td>0.026402</td>\n",
              "      <td>0.036410</td>\n",
              "      <td>0.091313</td>\n",
              "      <td>0.107078</td>\n",
              "      <td>0.079168</td>\n",
              "      <td>0.111932</td>\n",
              "      <td>0.039147</td>\n",
              "      <td>0.007433</td>\n",
              "      <td>0.013309</td>\n",
              "      <td>0.009527</td>\n",
              "      <td>0.015879</td>\n",
              "      <td>0.080135</td>\n",
              "      <td>0.295904</td>\n",
              "      <td>0.388529</td>\n",
              "      <td>0.182774</td>\n",
              "      <td>0.070541</td>\n",
              "      <td>0.002436</td>\n",
              "      <td>0.003864</td>\n",
              "      <td>0.142704</td>\n",
              "      <td>0.374793</td>\n",
              "      <td>0.298518</td>\n",
              "      <td>0.097773</td>\n",
              "      <td>0.009539</td>\n",
              "      <td>0.000000</td>\n",
              "      <td>0.002447</td>\n",
              "      <td>0.001580</td>\n",
              "      <td>0.013639</td>\n",
              "      <td>0.375906</td>\n",
              "      <td>0.408877</td>\n",
              "      <td>0.203929</td>\n",
              "      <td>0.106511</td>\n",
              "      <td>0.110688</td>\n",
              "      <td>0.001214</td>\n",
              "      <td>0.000088</td>\n",
              "      <td>0.004111</td>\n",
              "      <td>0.062549</td>\n",
              "      <td>0.253033</td>\n",
              "      <td>0.245725</td>\n",
              "      <td>0.326384</td>\n",
              "      <td>0.126469</td>\n",
              "      <td>...</td>\n",
              "      <td>0.055659</td>\n",
              "      <td>0.358907</td>\n",
              "      <td>0.129007</td>\n",
              "      <td>0.031768</td>\n",
              "      <td>0.097295</td>\n",
              "      <td>0.092958</td>\n",
              "      <td>0.141710</td>\n",
              "      <td>0.100115</td>\n",
              "      <td>0.028620</td>\n",
              "      <td>0.058216</td>\n",
              "      <td>0.096667</td>\n",
              "      <td>0.100782</td>\n",
              "      <td>0.203848</td>\n",
              "      <td>0.138290</td>\n",
              "      <td>0.172493</td>\n",
              "      <td>0.236578</td>\n",
              "      <td>0.049182</td>\n",
              "      <td>0.052278</td>\n",
              "      <td>0.102717</td>\n",
              "      <td>0.179673</td>\n",
              "      <td>0.180185</td>\n",
              "      <td>0.098016</td>\n",
              "      <td>0.322441</td>\n",
              "      <td>0.111612</td>\n",
              "      <td>0.068713</td>\n",
              "      <td>0.170322</td>\n",
              "      <td>0.070401</td>\n",
              "      <td>0.027510</td>\n",
              "      <td>0.046111</td>\n",
              "      <td>0.089039</td>\n",
              "      <td>0.199487</td>\n",
              "      <td>0.152112</td>\n",
              "      <td>0.166327</td>\n",
              "      <td>0.176707</td>\n",
              "      <td>0.011758</td>\n",
              "      <td>0.122038</td>\n",
              "      <td>0.548236</td>\n",
              "      <td>0.144410</td>\n",
              "      <td>0.222143</td>\n",
              "      <td>33</td>\n",
              "    </tr>\n",
              "    <tr>\n",
              "      <th>4</th>\n",
              "      <td>0.042312</td>\n",
              "      <td>0.139276</td>\n",
              "      <td>0.093038</td>\n",
              "      <td>0.039349</td>\n",
              "      <td>0.156275</td>\n",
              "      <td>0.304959</td>\n",
              "      <td>0.044027</td>\n",
              "      <td>0.028507</td>\n",
              "      <td>0.119267</td>\n",
              "      <td>0.188071</td>\n",
              "      <td>0.210651</td>\n",
              "      <td>0.100037</td>\n",
              "      <td>0.233653</td>\n",
              "      <td>0.214910</td>\n",
              "      <td>0.048232</td>\n",
              "      <td>0.048967</td>\n",
              "      <td>0.040066</td>\n",
              "      <td>0.103603</td>\n",
              "      <td>0.094565</td>\n",
              "      <td>0.185819</td>\n",
              "      <td>0.251838</td>\n",
              "      <td>0.203746</td>\n",
              "      <td>0.092921</td>\n",
              "      <td>0.043589</td>\n",
              "      <td>0.067133</td>\n",
              "      <td>0.133992</td>\n",
              "      <td>0.182767</td>\n",
              "      <td>0.194022</td>\n",
              "      <td>0.281615</td>\n",
              "      <td>0.329073</td>\n",
              "      <td>0.073014</td>\n",
              "      <td>0.047348</td>\n",
              "      <td>0.077590</td>\n",
              "      <td>0.085849</td>\n",
              "      <td>0.133501</td>\n",
              "      <td>0.119353</td>\n",
              "      <td>0.183468</td>\n",
              "      <td>0.094354</td>\n",
              "      <td>0.038752</td>\n",
              "      <td>0.026333</td>\n",
              "      <td>...</td>\n",
              "      <td>0.018236</td>\n",
              "      <td>0.153695</td>\n",
              "      <td>0.251007</td>\n",
              "      <td>0.055598</td>\n",
              "      <td>0.035857</td>\n",
              "      <td>0.148731</td>\n",
              "      <td>0.430347</td>\n",
              "      <td>0.066502</td>\n",
              "      <td>0.136286</td>\n",
              "      <td>0.167263</td>\n",
              "      <td>0.223180</td>\n",
              "      <td>0.046610</td>\n",
              "      <td>0.197649</td>\n",
              "      <td>0.136416</td>\n",
              "      <td>0.073898</td>\n",
              "      <td>0.016792</td>\n",
              "      <td>0.327745</td>\n",
              "      <td>0.350210</td>\n",
              "      <td>0.064759</td>\n",
              "      <td>0.044657</td>\n",
              "      <td>0.210486</td>\n",
              "      <td>0.139218</td>\n",
              "      <td>0.000000</td>\n",
              "      <td>0.139371</td>\n",
              "      <td>0.108506</td>\n",
              "      <td>0.138796</td>\n",
              "      <td>0.287241</td>\n",
              "      <td>0.080108</td>\n",
              "      <td>0.081362</td>\n",
              "      <td>0.097460</td>\n",
              "      <td>0.274602</td>\n",
              "      <td>0.149952</td>\n",
              "      <td>0.372411</td>\n",
              "      <td>0.133690</td>\n",
              "      <td>0.149661</td>\n",
              "      <td>0.089199</td>\n",
              "      <td>0.088972</td>\n",
              "      <td>0.045503</td>\n",
              "      <td>0.046976</td>\n",
              "      <td>11</td>\n",
              "    </tr>\n",
              "  </tbody>\n",
              "</table>\n",
              "<p>5 rows × 1569 columns</p>\n",
              "</div>"
            ],
            "text/plain": [
              "       0         1         2         3     ...      1565      1566      1567  1568\n",
              "0  0.077112  0.049983  0.143680  0.151308  ...  0.029830  0.006890  0.018699    16\n",
              "1  0.119052  0.003266  0.006143  0.247642  ...  0.053293  0.022978  0.010473     1\n",
              "2  0.000000  0.000000  0.000000  0.000000  ...  0.374231  0.062075  0.001808    38\n",
              "3  0.026402  0.036410  0.091313  0.107078  ...  0.548236  0.144410  0.222143    33\n",
              "4  0.042312  0.139276  0.093038  0.039349  ...  0.088972  0.045503  0.046976    11\n",
              "\n",
              "[5 rows x 1569 columns]"
            ]
          },
          "metadata": {
            "tags": []
          },
          "execution_count": 18
        }
      ]
    },
    {
      "cell_type": "code",
      "metadata": {
        "id": "jCl2Kz0zrv0S",
        "colab_type": "code",
        "colab": {}
      },
      "source": [
        "testData = data_test.iloc[:,:-1].values\n",
        "testLabels = data_test.iloc[:,-1].values"
      ],
      "execution_count": 0,
      "outputs": []
    },
    {
      "cell_type": "markdown",
      "metadata": {
        "id": "dZWfW1IY1gnr",
        "colab_type": "text"
      },
      "source": [
        "# Construction du modèle de RandomForestClassifier\n"
      ]
    },
    {
      "cell_type": "code",
      "metadata": {
        "colab_type": "code",
        "id": "AobP-21l1x5D",
        "colab": {}
      },
      "source": [
        "##Commençons par import des librairies\n",
        "from sklearn.ensemble import RandomForestClassifier\n",
        "from sklearn.datasets import make_classification"
      ],
      "execution_count": 0,
      "outputs": []
    },
    {
      "cell_type": "markdown",
      "metadata": {
        "id": "08_F_l1P9I6r",
        "colab_type": "text"
      },
      "source": [
        "# RandomForest avec les paramettres par defaut\n"
      ]
    },
    {
      "cell_type": "code",
      "metadata": {
        "id": "NoUTu6CP2ZKB",
        "colab_type": "code",
        "outputId": "bc9ed552-f728-4196-e276-2f3c204a5b9d",
        "colab": {
          "base_uri": "https://localhost:8080/",
          "height": 153
        }
      },
      "source": [
        "## construction du model\n",
        "rdforest = RandomForestClassifier()\n",
        "rdforest.fit(trainData, trainLabels)"
      ],
      "execution_count": 21,
      "outputs": [
        {
          "output_type": "execute_result",
          "data": {
            "text/plain": [
              "RandomForestClassifier(bootstrap=True, ccp_alpha=0.0, class_weight=None,\n",
              "                       criterion='gini', max_depth=None, max_features='auto',\n",
              "                       max_leaf_nodes=None, max_samples=None,\n",
              "                       min_impurity_decrease=0.0, min_impurity_split=None,\n",
              "                       min_samples_leaf=1, min_samples_split=2,\n",
              "                       min_weight_fraction_leaf=0.0, n_estimators=100,\n",
              "                       n_jobs=None, oob_score=False, random_state=None,\n",
              "                       verbose=0, warm_start=False)"
            ]
          },
          "metadata": {
            "tags": []
          },
          "execution_count": 21
        }
      ]
    },
    {
      "cell_type": "markdown",
      "metadata": {
        "id": "ywOiMtQgkjRz",
        "colab_type": "text"
      },
      "source": [
        "## Faire de nouvelles prédictions sur le modèle de RandomForest"
      ]
    },
    {
      "cell_type": "code",
      "metadata": {
        "id": "UbEyA4xB5ind",
        "colab_type": "code",
        "colab": {}
      },
      "source": [
        "predictions= rdforest.predict(testData)"
      ],
      "execution_count": 0,
      "outputs": []
    },
    {
      "cell_type": "code",
      "metadata": {
        "id": "YyrQ4TPu54VB",
        "colab_type": "code",
        "outputId": "565b4b65-ea7f-487b-8719-78d540d6c45b",
        "colab": {
          "base_uri": "https://localhost:8080/",
          "height": 34
        }
      },
      "source": [
        "testLabels"
      ],
      "execution_count": 23,
      "outputs": [
        {
          "output_type": "execute_result",
          "data": {
            "text/plain": [
              "array([16,  1, 38, ...,  6,  7, 10])"
            ]
          },
          "metadata": {
            "tags": []
          },
          "execution_count": 23
        }
      ]
    },
    {
      "cell_type": "code",
      "metadata": {
        "id": "6kD-zdQE50Uz",
        "colab_type": "code",
        "outputId": "59f3e427-911f-482a-a278-53c3b42bb9fc",
        "colab": {
          "base_uri": "https://localhost:8080/",
          "height": 34
        }
      },
      "source": [
        "predictions"
      ],
      "execution_count": 24,
      "outputs": [
        {
          "output_type": "execute_result",
          "data": {
            "text/plain": [
              "array([16,  1, 38, ...,  3,  7, 10])"
            ]
          },
          "metadata": {
            "tags": []
          },
          "execution_count": 24
        }
      ]
    },
    {
      "cell_type": "markdown",
      "metadata": {
        "id": "f3ILT8z665Zl",
        "colab_type": "text"
      },
      "source": [
        "#Calcul de precision du model random forest\n"
      ]
    },
    {
      "cell_type": "code",
      "metadata": {
        "id": "S1NBZiLk6Amg",
        "colab_type": "code",
        "colab": {}
      },
      "source": [
        "from sklearn.metrics import accuracy_score"
      ],
      "execution_count": 0,
      "outputs": []
    },
    {
      "cell_type": "code",
      "metadata": {
        "id": "HSfhKb_G7OSA",
        "colab_type": "code",
        "outputId": "fc27f2bf-7bbc-44a8-e8cf-c47a10a54fbc",
        "colab": {
          "base_uri": "https://localhost:8080/",
          "height": 34
        }
      },
      "source": [
        "print('Accuracy: ', accuracy_score(testLabels, predictions))"
      ],
      "execution_count": 26,
      "outputs": [
        {
          "output_type": "stream",
          "text": [
            "Accuracy:  0.9593032462391132\n"
          ],
          "name": "stdout"
        }
      ]
    },
    {
      "cell_type": "markdown",
      "metadata": {
        "id": "87BZ_Y4t79sV",
        "colab_type": "text"
      },
      "source": [
        "#Rapport de classification de random forest"
      ]
    },
    {
      "cell_type": "code",
      "metadata": {
        "id": "JngwOr9r8LkO",
        "colab_type": "code",
        "outputId": "102bb3d5-0b9a-4f5c-a8f3-576d5f0c2d6c",
        "colab": {
          "base_uri": "https://localhost:8080/",
          "height": 867
        }
      },
      "source": [
        "print(classification_report(testLabels, predictions))"
      ],
      "execution_count": 31,
      "outputs": [
        {
          "output_type": "stream",
          "text": [
            "              precision    recall  f1-score   support\n",
            "\n",
            "           0       1.00      0.73      0.85        60\n",
            "           1       0.98      0.98      0.98       720\n",
            "           2       0.93      0.99      0.96       750\n",
            "           3       0.98      0.90      0.94       450\n",
            "           4       0.96      0.98      0.97       660\n",
            "           5       0.90      0.94      0.92       630\n",
            "           6       0.98      0.83      0.90       150\n",
            "           7       0.96      0.95      0.96       450\n",
            "           8       0.93      0.93      0.93       450\n",
            "           9       0.96      1.00      0.98       480\n",
            "          10       0.99      1.00      0.99       660\n",
            "          11       0.92      0.96      0.94       420\n",
            "          12       0.99      0.98      0.98       690\n",
            "          13       0.99      1.00      0.99       720\n",
            "          14       1.00      1.00      1.00       270\n",
            "          15       0.95      0.98      0.96       210\n",
            "          16       1.00      0.99      0.99       150\n",
            "          17       1.00      1.00      1.00       360\n",
            "          18       0.98      0.87      0.92       390\n",
            "          19       0.97      1.00      0.98        60\n",
            "          20       0.87      0.96      0.91        90\n",
            "          21       0.98      0.72      0.83        90\n",
            "          22       0.98      0.86      0.92       120\n",
            "          23       0.93      0.99      0.96       150\n",
            "          24       1.00      0.96      0.98        90\n",
            "          25       0.90      0.98      0.94       480\n",
            "          26       0.82      0.82      0.82       180\n",
            "          27       1.00      0.85      0.92        60\n",
            "          28       0.97      0.98      0.98       150\n",
            "          29       0.99      0.99      0.99        90\n",
            "          30       0.87      0.63      0.73       150\n",
            "          31       0.92      0.98      0.95       270\n",
            "          32       0.97      1.00      0.98        60\n",
            "          33       1.00      1.00      1.00       210\n",
            "          34       0.98      0.99      0.99       120\n",
            "          35       0.99      0.99      0.99       390\n",
            "          36       0.99      0.99      0.99       120\n",
            "          37       1.00      0.97      0.98        60\n",
            "          38       0.97      1.00      0.98       690\n",
            "          39       1.00      0.99      0.99        90\n",
            "          40       0.98      0.89      0.93        90\n",
            "          41       0.94      0.75      0.83        60\n",
            "          42       1.00      0.92      0.96        90\n",
            "\n",
            "    accuracy                           0.96     12630\n",
            "   macro avg       0.96      0.93      0.95     12630\n",
            "weighted avg       0.96      0.96      0.96     12630\n",
            "\n"
          ],
          "name": "stdout"
        }
      ]
    },
    {
      "cell_type": "markdown",
      "metadata": {
        "id": "36WRP0wFoBxf",
        "colab_type": "text"
      },
      "source": [
        "#Matrice de confusion du model forêt aleatoire"
      ]
    },
    {
      "cell_type": "code",
      "metadata": {
        "id": "QxbsIwhkn6-a",
        "colab_type": "code",
        "outputId": "f6748117-c829-46e2-f3f7-3e1676212058",
        "colab": {
          "base_uri": "https://localhost:8080/",
          "height": 287
        }
      },
      "source": [
        "sns.heatmap(confusion_matrix(testLabels, predictions))"
      ],
      "execution_count": 32,
      "outputs": [
        {
          "output_type": "execute_result",
          "data": {
            "text/plain": [
              "<matplotlib.axes._subplots.AxesSubplot at 0x7f16df355cc0>"
            ]
          },
          "metadata": {
            "tags": []
          },
          "execution_count": 32
        },
        {
          "output_type": "display_data",
          "data": {
            "image/png": "[encoded data removed]",
            "text/plain": [
              "<Figure size 432x288 with 2 Axes>"
            ]
          },
          "metadata": {
            "tags": []
          }
        }
      ]
    },
    {
      "cell_type": "markdown",
      "metadata": {
        "id": "BMzGRFUKBIFV",
        "colab_type": "text"
      },
      "source": [
        "# Construction du model SVM"
      ]
    },
    {
      "cell_type": "markdown",
      "metadata": {
        "id": "KerHBSooDAYP",
        "colab_type": "text"
      },
      "source": [
        "## Import de librairie \n"
      ]
    },
    {
      "cell_type": "code",
      "metadata": {
        "id": "vNBI4uz0CSuR",
        "colab_type": "code",
        "colab": {}
      },
      "source": [
        "from sklearn.svm import SVC"
      ],
      "execution_count": 0,
      "outputs": []
    },
    {
      "cell_type": "markdown",
      "metadata": {
        "id": "uQebi5UO8i_2",
        "colab_type": "text"
      },
      "source": [
        "# SVM avec les parametres par defaut"
      ]
    },
    {
      "cell_type": "code",
      "metadata": {
        "id": "2ToloYWI-y1v",
        "colab_type": "code",
        "outputId": "d67f08d4-92b2-4cf0-fbf8-23483a4e0868",
        "colab": {
          "base_uri": "https://localhost:8080/",
          "height": 85
        }
      },
      "source": [
        "svm = SVC(gamma='auto')\n",
        "svm.fit(trainData, trainLabels)"
      ],
      "execution_count": 30,
      "outputs": [
        {
          "output_type": "execute_result",
          "data": {
            "text/plain": [
              "SVC(C=1.0, break_ties=False, cache_size=200, class_weight=None, coef0=0.0,\n",
              "    decision_function_shape='ovr', degree=3, gamma='auto', kernel='rbf',\n",
              "    max_iter=-1, probability=False, random_state=None, shrinking=True,\n",
              "    tol=0.001, verbose=False)"
            ]
          },
          "metadata": {
            "tags": []
          },
          "execution_count": 30
        }
      ]
    },
    {
      "cell_type": "markdown",
      "metadata": {
        "id": "xP7eApkAkzPu",
        "colab_type": "text"
      },
      "source": [
        "# Faire de nouvelles prédictions sur model SVM\n",
        "\n",
        "---\n",
        "\n",
        "\n",
        "\n",
        "---\n",
        "\n"
      ]
    },
    {
      "cell_type": "code",
      "metadata": {
        "id": "K4w9TqL8MUVI",
        "colab_type": "code",
        "colab": {}
      },
      "source": [
        "predictions2= svm.predict(testData)"
      ],
      "execution_count": 0,
      "outputs": []
    },
    {
      "cell_type": "code",
      "metadata": {
        "id": "vAoriCGwQxoT",
        "colab_type": "code",
        "outputId": "7ec5ed2d-1385-4dd1-a85e-9a6e48066ea8",
        "colab": {
          "base_uri": "https://localhost:8080/",
          "height": 34
        }
      },
      "source": [
        "predictions2\n"
      ],
      "execution_count": 34,
      "outputs": [
        {
          "output_type": "execute_result",
          "data": {
            "text/plain": [
              "array([16,  1, 38, ...,  4,  7, 10])"
            ]
          },
          "metadata": {
            "tags": []
          },
          "execution_count": 34
        }
      ]
    },
    {
      "cell_type": "code",
      "metadata": {
        "id": "F3sKsi9KQ-VA",
        "colab_type": "code",
        "outputId": "8969efe0-aaaa-4e17-d76c-570e69fa3297",
        "colab": {
          "base_uri": "https://localhost:8080/",
          "height": 34
        }
      },
      "source": [
        "testLabels"
      ],
      "execution_count": 0,
      "outputs": [
        {
          "output_type": "execute_result",
          "data": {
            "text/plain": [
              "array([16,  1, 38, ...,  6,  7, 10])"
            ]
          },
          "metadata": {
            "tags": []
          },
          "execution_count": 87
        }
      ]
    },
    {
      "cell_type": "markdown",
      "metadata": {
        "id": "hAzp33Avwtw3",
        "colab_type": "text"
      },
      "source": [
        "#Precision du model svm"
      ]
    },
    {
      "cell_type": "code",
      "metadata": {
        "id": "EfzGT3sqRHB4",
        "colab_type": "code",
        "outputId": "380faa21-da5f-4110-9a13-f53a86bfa252",
        "colab": {
          "base_uri": "https://localhost:8080/",
          "height": 34
        }
      },
      "source": [
        "print('Accuracy2: ', accuracy_score(testLabels, predictions2))"
      ],
      "execution_count": 0,
      "outputs": [
        {
          "output_type": "stream",
          "text": [
            "Accuracy2:  0.8092636579572446\n"
          ],
          "name": "stdout"
        }
      ]
    },
    {
      "cell_type": "markdown",
      "metadata": {
        "id": "2XKyRyR_rElc",
        "colab_type": "text"
      },
      "source": [
        "#Matrice de confusion du modèl svm"
      ]
    },
    {
      "cell_type": "code",
      "metadata": {
        "id": "pB_u4ZzKmkOx",
        "colab_type": "code",
        "outputId": "d65e5183-bc0d-4f46-fc9b-cf6a0e44875c",
        "colab": {
          "base_uri": "https://localhost:8080/",
          "height": 287
        }
      },
      "source": [
        "sns.heatmap(confusion_matrix(testLabels, predictions2))"
      ],
      "execution_count": 0,
      "outputs": [
        {
          "output_type": "execute_result",
          "data": {
            "text/plain": [
              "<matplotlib.axes._subplots.AxesSubplot at 0x7fe22396ad30>"
            ]
          },
          "metadata": {
            "tags": []
          },
          "execution_count": 94
        },
        {
          "output_type": "display_data",
          "data": {
            "image/png": "[encoded data removed]",
            "text/plain": [
              "<Figure size 432x288 with 2 Axes>"
            ]
          },
          "metadata": {
            "tags": []
          }
        }
      ]
    },
    {
      "cell_type": "markdown",
      "metadata": {
        "id": "zmSN-54S7oKE",
        "colab_type": "text"
      },
      "source": [
        "#Rapport de classification"
      ]
    },
    {
      "cell_type": "code",
      "metadata": {
        "id": "_PHWY1xKxTse",
        "colab_type": "code",
        "colab": {}
      },
      "source": [
        ""
      ],
      "execution_count": 0,
      "outputs": []
    },
    {
      "cell_type": "code",
      "metadata": {
        "id": "ExE5O64e7RSk",
        "colab_type": "code",
        "outputId": "16de8dac-25fa-42b8-b91e-b902c955dc88",
        "colab": {
          "base_uri": "https://localhost:8080/",
          "height": 921
        }
      },
      "source": [
        "print(classification_report(testLabels, predictions2))"
      ],
      "execution_count": 0,
      "outputs": [
        {
          "output_type": "stream",
          "text": [
            "              precision    recall  f1-score   support\n",
            "\n",
            "           0       0.00      0.00      0.00        60\n",
            "           1       0.78      0.78      0.78       720\n",
            "           2       0.61      0.96      0.75       750\n",
            "           3       0.96      0.51      0.67       450\n",
            "           4       0.90      0.94      0.92       660\n",
            "           5       0.58      0.64      0.61       630\n",
            "           6       0.62      0.75      0.68       150\n",
            "           7       0.81      0.81      0.81       450\n",
            "           8       0.93      0.70      0.80       450\n",
            "           9       0.93      0.98      0.95       480\n",
            "          10       0.98      0.96      0.97       660\n",
            "          11       0.44      0.96      0.60       420\n",
            "          12       0.98      1.00      0.99       690\n",
            "          13       1.00      1.00      1.00       720\n",
            "          14       1.00      0.97      0.98       270\n",
            "          15       1.00      0.96      0.98       210\n",
            "          16       1.00      0.88      0.94       150\n",
            "          17       1.00      0.99      0.99       360\n",
            "          18       0.74      0.85      0.79       390\n",
            "          19       0.00      0.00      0.00        60\n",
            "          20       0.00      0.00      0.00        90\n",
            "          21       0.00      0.00      0.00        90\n",
            "          22       1.00      0.40      0.57       120\n",
            "          23       0.73      0.18      0.29       150\n",
            "          24       0.00      0.00      0.00        90\n",
            "          25       0.63      0.95      0.76       480\n",
            "          26       0.90      0.44      0.59       180\n",
            "          27       0.00      0.00      0.00        60\n",
            "          28       1.00      0.03      0.06       150\n",
            "          29       0.00      0.00      0.00        90\n",
            "          30       0.60      0.19      0.29       150\n",
            "          31       0.57      1.00      0.72       270\n",
            "          32       1.00      0.42      0.59        60\n",
            "          33       1.00      0.99      1.00       210\n",
            "          34       1.00      0.99      1.00       120\n",
            "          35       0.96      0.99      0.97       390\n",
            "          36       1.00      0.96      0.98       120\n",
            "          37       1.00      0.67      0.80        60\n",
            "          38       0.98      0.99      0.98       690\n",
            "          39       1.00      1.00      1.00        90\n",
            "          40       0.89      0.62      0.73        90\n",
            "          41       0.86      0.60      0.71        60\n",
            "          42       1.00      0.30      0.46        90\n",
            "\n",
            "    accuracy                           0.81     12630\n",
            "   macro avg       0.73      0.64      0.64     12630\n",
            "weighted avg       0.81      0.81      0.79     12630\n",
            "\n"
          ],
          "name": "stdout"
        },
        {
          "output_type": "stream",
          "text": [
            "/usr/local/lib/python3.6/dist-packages/sklearn/metrics/_classification.py:1272: UndefinedMetricWarning: Precision and F-score are ill-defined and being set to 0.0 in labels with no predicted samples. Use `zero_division` parameter to control this behavior.\n",
            "  _warn_prf(average, modifier, msg_start, len(result))\n"
          ],
          "name": "stderr"
        }
      ]
    },
    {
      "cell_type": "markdown",
      "metadata": {
        "id": "RKIOl1OF_nbq",
        "colab_type": "text"
      },
      "source": [
        "# SVM Linear"
      ]
    },
    {
      "cell_type": "code",
      "metadata": {
        "id": "UgCiQCFL_bql",
        "colab_type": "code",
        "colab": {}
      },
      "source": [
        "import time\n",
        "from sklearn.svm import LinearSVC\n",
        "from sklearn.neighbors import KNeighborsClassifier"
      ],
      "execution_count": 0,
      "outputs": []
    },
    {
      "cell_type": "code",
      "metadata": {
        "id": "ANFxVwSuBc4k",
        "colab_type": "code",
        "outputId": "bf572875-681f-4b3d-d962-8198feb8830c",
        "colab": {
          "base_uri": "https://localhost:8080/",
          "height": 34
        }
      },
      "source": [
        "# Utilisons le linear SVC \n",
        "svc = LinearSVC()\n",
        "svc.fit(trainData, trainLabels)\n",
        "predictions3=svc.predict(testData)\n",
        "print('Accuracy: ', accuracy_score(testLabels, predictions3))\n",
        "#print('Test Accuracy of SVC = ', round(svc.score(testLabels, predictions3), 4))"
      ],
      "execution_count": 36,
      "outputs": [
        {
          "output_type": "stream",
          "text": [
            "Accuracy:  0.9577197149643706\n"
          ],
          "name": "stdout"
        }
      ]
    },
    {
      "cell_type": "code",
      "metadata": {
        "id": "l1_DcMxcTUzF",
        "colab_type": "code",
        "colab": {
          "base_uri": "https://localhost:8080/",
          "height": 34
        },
        "outputId": "e9f66b19-6eb7-4fc3-bb64-bbf66e8adcf2"
      },
      "source": [
        "predictions3\n"
      ],
      "execution_count": 37,
      "outputs": [
        {
          "output_type": "execute_result",
          "data": {
            "text/plain": [
              "array([16,  1, 38, ...,  4,  7, 10])"
            ]
          },
          "metadata": {
            "tags": []
          },
          "execution_count": 37
        }
      ]
    }
  ]
}